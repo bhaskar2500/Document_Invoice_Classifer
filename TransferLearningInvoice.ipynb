{
 "cells": [
  {
   "cell_type": "code",
   "execution_count": 29,
   "metadata": {},
   "outputs": [],
   "source": [
    "from nltk import ngrams\n",
    "import pytesseract  as pt\n",
    "from PIL import Image as im\n",
    "import cv2"
   ]
  },
  {
   "cell_type": "code",
   "execution_count": 40,
   "metadata": {},
   "outputs": [
    {
     "name": "stdout",
     "output_type": "stream",
     "text": [
      "[[238 238 238 ... 238 238 238]\n",
      " [238 238 238 ... 238 238 238]\n",
      " [238 238 238 ... 238 238 238]\n",
      " ...\n",
      " [238 238 238 ... 238 238 238]\n",
      " [238 238 238 ... 238 238 238]\n",
      " [238 238 238 ... 238 238 238]]\n"
     ]
    },
    {
     "data": {
      "text/plain": [
       "True"
      ]
     },
     "execution_count": 40,
     "metadata": {},
     "output_type": "execute_result"
    }
   ],
   "source": [
    "file_name='inv.png'\n",
    "src = cv2.imread(file_name, 1)\n",
    "tmp = cv2.cvtColor(src, cv2.COLOR_BGR2GRAY)\n",
    "_,alpha = cv2.threshold(tmp,0,255,cv2.THRESH_BINARY)\n",
    "b, g, r = cv2.split(src)\n",
    "rgba = [b,g,r, alpha]\n",
    "dst = cv2.merge(rgba,4)\n",
    "cv2.imwrite(\"test.png\", dst)"
   ]
  },
  {
   "cell_type": "code",
   "execution_count": 35,
   "metadata": {},
   "outputs": [],
   "source": [
    "img = im.open('test.png')"
   ]
  },
  {
   "cell_type": "code",
   "execution_count": 38,
   "metadata": {},
   "outputs": [
    {
     "data": {
      "text/plain": [
       "['SK NI lnmmu',\n",
       " '',\n",
       " 'INVOICE',\n",
       " '',\n",
       " '\\\\mu m',\n",
       " 'w n.»',\n",
       " 'm. m.',\n",
       " 'Suh-cl',\n",
       " '',\n",
       " 'mm',\n",
       " 'mm\"',\n",
       " '',\n",
       " 'Wu [Ivan m',\n",
       " '5m mm mm\"',\n",
       " '',\n",
       " 'MM',\n",
       " '',\n",
       " 'MN-',\n",
       " '',\n",
       " 'hum',\n",
       " '',\n",
       " '«m',\n",
       " '',\n",
       " '5759',\n",
       " '',\n",
       " 'A50',\n",
       " '',\n",
       " 'm m',\n",
       " '',\n",
       " 'mwmy Mn-',\n",
       " '“ 51 mm Flux',\n",
       " '51.1w m m',\n",
       " 'w',\n",
       " '',\n",
       " 'nmnmn mm.\"',\n",
       " '.1 m— am: am',\n",
       " 'W 5:1 um',\n",
       " '',\n",
       " 'um WW',\n",
       " '',\n",
       " '2239 m um',\n",
       " 'mm m umm',\n",
       " '',\n",
       " 'Mm mm',\n",
       " '',\n",
       " 'mm run- an',\n",
       " 'n- (10%) mm',\n",
       " '9mm 4313‘ H:',\n",
       " '',\n",
       " 'mm o..- mm']"
      ]
     },
     "execution_count": 38,
     "metadata": {},
     "output_type": "execute_result"
    }
   ],
   "source": [
    "pt.image_to_string(img).split('\\n')"
   ]
  },
  {
   "cell_type": "code",
   "execution_count": null,
   "metadata": {},
   "outputs": [],
   "source": []
  }
 ],
 "metadata": {
  "kernelspec": {
   "display_name": "Python 3",
   "language": "python",
   "name": "python3"
  },
  "language_info": {
   "codemirror_mode": {
    "name": "ipython",
    "version": 3
   },
   "file_extension": ".py",
   "mimetype": "text/x-python",
   "name": "python",
   "nbconvert_exporter": "python",
   "pygments_lexer": "ipython3",
   "version": "3.6.8"
  }
 },
 "nbformat": 4,
 "nbformat_minor": 2
}
