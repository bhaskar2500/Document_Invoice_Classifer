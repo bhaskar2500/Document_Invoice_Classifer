{
 "cells": [
  {
   "cell_type": "code",
   "execution_count": null,
   "metadata": {},
   "outputs": [],
   "source": [
    "import os\n",
    "import pytesseract as pt\n",
    "from PIL import Image as im\n",
    "import numpy as np\n",
    "from keras.applications.vgg16 import VGG16\n",
    "from keras.utils import np_utils\n",
    "from sklearn.utils import shuffle\n"
   ]
  },
  {
   "cell_type": "code",
   "execution_count": 68,
   "metadata": {},
   "outputs": [],
   "source": [
    "from keras import backend as K\n",
    "from keras.layers.convolutional import Conv2D, MaxPooling2D ,Conv3D\n",
    "from keras.layers import Input, Dense, Activation ,Flatten\n",
    "from keras.layers import Reshape, Lambda \n",
    "from keras.layers.merge import add, concatenate\n",
    "from keras.layers.normalization import BatchNormalization\n",
    "from keras.models import Model,Sequential\n",
    "from keras.layers.recurrent import GRU\n",
    "from keras.optimizers import SGD\n",
    "from keras.utils.data_utils import get_file\n",
    "from keras.preprocessing import image as ki\n",
    "from keras.layers.convolutional_recurrent import ConvLSTM2D"
   ]
  },
  {
   "cell_type": "code",
   "execution_count": 14,
   "metadata": {},
   "outputs": [],
   "source": [
    "def get_processed_images(invoice=True):\n",
    "    if invoice :\n",
    "        image_dir =  \"purchase_order\\\\\" \n",
    "    else:\n",
    "        image_dir='flower_images\\\\' \n",
    "    size = (224,224)\n",
    "    normalized_image = []\n",
    "    imgV = []\n",
    "    for pic in os.listdir(image_dir):\n",
    "        img = im.open(image_dir+pic)\n",
    "        img =img.resize(size,im.ANTIALIAS) \n",
    "        img_array = ki.img_to_array(img)\n",
    "       \n",
    "        v_min = img_array.min(axis=(0, 1), keepdims=True)\n",
    "        v_max = img_array.max(axis=(0, 1), keepdims=True)\n",
    "        img_array = (img_array - v_min)/(v_max - v_min)\n",
    "        normalized_image.append(img_array)\n",
    "        filterImage = filter(lambda x : x.shape[2]==3 ,normalized_image)\n",
    "        imageData = np.array(list(filterImage))\n",
    "    return imageData\n",
    "\n",
    "    \n"
   ]
  },
  {
   "cell_type": "code",
   "execution_count": null,
   "metadata": {},
   "outputs": [],
   "source": []
  },
  {
   "cell_type": "code",
   "execution_count": 15,
   "metadata": {},
   "outputs": [
    {
     "name": "stderr",
     "output_type": "stream",
     "text": [
      "C:\\Users\\PwC Hyd\\AppData\\Local\\Programs\\Python\\Python36\\lib\\site-packages\\ipykernel_launcher.py:16: RuntimeWarning: invalid value encountered in true_divide\n",
      "  app.launch_new_instance()\n"
     ]
    }
   ],
   "source": [
    "from sklearn.model_selection import train_test_split\n",
    "invoiceData = get_processed_images(True)\n",
    "nonInvoiceData = get_processed_images(False)\n",
    "\n",
    "image_data = np.concatenate([invoiceData,nonInvoiceData])"
   ]
  },
  {
   "cell_type": "code",
   "execution_count": 16,
   "metadata": {},
   "outputs": [],
   "source": [
    "Y=np.zeros((len(nonInvoiceData),)) # ALL THE ZEROES ARE NON INVOICE/ FLOWER DATA \n",
    "labels = np.ones((len(invoiceData),)) #ALL THE ONES ARE INVOICE DATA\n",
    "\n",
    "Y= np.concatenate([labels,Y])\n",
    "Y = np_utils.to_categorical(Y, 2)\n",
    "\n",
    "x,y = shuffle(image_data,Y, random_state=2)\n",
    "\n",
    "X_train,X_test,y_train,y_test = train_test_split(x,y, train_size=0.67 ,test_size=0.33)\n"
   ]
  },
  {
   "cell_type": "code",
   "execution_count": 20,
   "metadata": {},
   "outputs": [],
   "source": [
    "#Training the classifier alone\n",
    "image_input = Input(shape=(224, 224, 3))\n",
    "\n",
    "model = VGG16(input_tensor=image_input, include_top=True,weights='imagenet')\n"
   ]
  },
  {
   "cell_type": "code",
   "execution_count": 72,
   "metadata": {},
   "outputs": [
    {
     "name": "stdout",
     "output_type": "stream",
     "text": [
      "_________________________________________________________________\n",
      "Layer (type)                 Output Shape              Param #   \n",
      "=================================================================\n",
      "input_10 (InputLayer)        (None, 224, 224, 3)       0         \n",
      "_________________________________________________________________\n",
      "block1_conv1 (Conv2D)        (None, 224, 224, 64)      1792      \n",
      "_________________________________________________________________\n",
      "block1_conv2 (Conv2D)        (None, 224, 224, 64)      36928     \n",
      "_________________________________________________________________\n",
      "block1_pool (MaxPooling2D)   (None, 112, 112, 64)      0         \n",
      "_________________________________________________________________\n",
      "block2_conv1 (Conv2D)        (None, 112, 112, 128)     73856     \n",
      "_________________________________________________________________\n",
      "block2_conv2 (Conv2D)        (None, 112, 112, 128)     147584    \n",
      "_________________________________________________________________\n",
      "block2_pool (MaxPooling2D)   (None, 56, 56, 128)       0         \n",
      "_________________________________________________________________\n",
      "block3_conv1 (Conv2D)        (None, 56, 56, 256)       295168    \n",
      "_________________________________________________________________\n",
      "block3_conv2 (Conv2D)        (None, 56, 56, 256)       590080    \n",
      "_________________________________________________________________\n",
      "block3_conv3 (Conv2D)        (None, 56, 56, 256)       590080    \n",
      "_________________________________________________________________\n",
      "block3_pool (MaxPooling2D)   (None, 28, 28, 256)       0         \n",
      "_________________________________________________________________\n",
      "block4_conv1 (Conv2D)        (None, 28, 28, 512)       1180160   \n",
      "_________________________________________________________________\n",
      "block4_conv2 (Conv2D)        (None, 28, 28, 512)       2359808   \n",
      "_________________________________________________________________\n",
      "block4_conv3 (Conv2D)        (None, 28, 28, 512)       2359808   \n",
      "_________________________________________________________________\n",
      "block4_pool (MaxPooling2D)   (None, 14, 14, 512)       0         \n",
      "_________________________________________________________________\n",
      "block5_conv1 (Conv2D)        (None, 14, 14, 512)       2359808   \n",
      "_________________________________________________________________\n",
      "block5_conv2 (Conv2D)        (None, 14, 14, 512)       2359808   \n",
      "_________________________________________________________________\n",
      "block5_conv3 (Conv2D)        (None, 14, 14, 512)       2359808   \n",
      "_________________________________________________________________\n",
      "block5_pool (MaxPooling2D)   (None, 7, 7, 512)         0         \n",
      "_________________________________________________________________\n",
      "flatten (Flatten)            (None, 25088)             0         \n",
      "_________________________________________________________________\n",
      "fc1 (Dense)                  (None, 128)               3211392   \n",
      "_________________________________________________________________\n",
      "fc2 (Dense)                  (None, 128)               16512     \n",
      "_________________________________________________________________\n",
      "output (Dense)               (None, 2)                 258       \n",
      "=================================================================\n",
      "Total params: 17,942,850\n",
      "Trainable params: 3,228,162\n",
      "Non-trainable params: 14,714,688\n",
      "_________________________________________________________________\n"
     ]
    }
   ],
   "source": [
    "last_layer = model.get_layer('block5_pool').output\n",
    "x= Flatten(name='flatten')(last_layer) \n",
    "x= Dense(128,activation='relu',name='fc1')(x)\n",
    "x= Dense(128,activation='relu',name='fc2')(x)\n",
    "out = Dense(2, activation='softmax', name='output')(x)\n",
    "custom_vgg_model = Model(image_input, out)\n",
    "custom_vgg_model.summary()\n",
    "\n",
    "for layer in custom_vgg_model.layers[:-3]:\n",
    "    layer.trainable = False\n",
    "\n",
    "\n",
    "custom_vgg_model.compile(loss='categorical_crossentropy',optimizer='rmsprop',metrics=['accuracy'])\n"
   ]
  },
  {
   "cell_type": "code",
   "execution_count": 99,
   "metadata": {},
   "outputs": [
    {
     "data": {
      "text/plain": [
       "<tf.Tensor 'output_5/Softmax:0' shape=(?, 2) dtype=float32>"
      ]
     },
     "execution_count": 99,
     "metadata": {},
     "output_type": "execute_result"
    }
   ],
   "source": []
  },
  {
   "cell_type": "code",
   "execution_count": null,
   "metadata": {},
   "outputs": [],
   "source": []
  },
  {
   "cell_type": "code",
   "execution_count": 73,
   "metadata": {},
   "outputs": [
    {
     "name": "stdout",
     "output_type": "stream",
     "text": [
      "Train on 109 samples, validate on 54 samples\n",
      "Epoch 1/12\n",
      "109/109 [==============================] - 45s 409ms/step - loss: 0.2438 - acc: 0.8807 - val_loss: 8.3529 - val_acc: 0.4815\n",
      "Epoch 2/12\n",
      "109/109 [==============================] - 47s 434ms/step - loss: 6.3019 - acc: 0.6055 - val_loss: 0.0039 - val_acc: 1.0000\n",
      "Epoch 3/12\n",
      "109/109 [==============================] - 50s 459ms/step - loss: 1.1569e-04 - acc: 1.0000 - val_loss: 0.0011 - val_acc: 1.0000\n",
      "Epoch 4/12\n",
      "109/109 [==============================] - 49s 451ms/step - loss: 4.0437e-06 - acc: 1.0000 - val_loss: 0.0011 - val_acc: 1.0000\n",
      "Epoch 5/12\n",
      "109/109 [==============================] - 49s 447ms/step - loss: 3.2490e-06 - acc: 1.0000 - val_loss: 9.9890e-04 - val_acc: 1.0000\n",
      "Epoch 6/12\n",
      "109/109 [==============================] - 49s 447ms/step - loss: 2.6331e-06 - acc: 1.0000 - val_loss: 9.1537e-04 - val_acc: 1.0000\n",
      "Epoch 7/12\n",
      "109/109 [==============================] - 47s 434ms/step - loss: 1.9545e-06 - acc: 1.0000 - val_loss: 7.7018e-04 - val_acc: 1.0000\n",
      "Epoch 8/12\n",
      "109/109 [==============================] - 47s 430ms/step - loss: 1.4245e-06 - acc: 1.0000 - val_loss: 7.0463e-04 - val_acc: 1.0000\n",
      "Epoch 9/12\n",
      "109/109 [==============================] - 47s 433ms/step - loss: 1.0374e-06 - acc: 1.0000 - val_loss: 6.9304e-04 - val_acc: 1.0000\n",
      "Epoch 10/12\n",
      "109/109 [==============================] - 48s 441ms/step - loss: 8.5744e-07 - acc: 1.0000 - val_loss: 6.9965e-04 - val_acc: 1.0000\n",
      "Epoch 11/12\n",
      "109/109 [==============================] - 47s 431ms/step - loss: 7.1362e-07 - acc: 1.0000 - val_loss: 7.1856e-04 - val_acc: 1.0000\n",
      "Epoch 12/12\n",
      "109/109 [==============================] - 47s 428ms/step - loss: 6.0863e-07 - acc: 1.0000 - val_loss: 7.8047e-04 - val_acc: 1.0000\n"
     ]
    }
   ],
   "source": [
    "hist = custom_vgg_model.fit(X_train, y_train, batch_size=32, epochs=12, verbose=1, validation_data=(X_test, y_test))\n"
   ]
  },
  {
   "cell_type": "code",
   "execution_count": 120,
   "metadata": {},
   "outputs": [
    {
     "data": {
      "text/plain": [
       "array([0., 1.], dtype=float32)"
      ]
     },
     "execution_count": 120,
     "metadata": {},
     "output_type": "execute_result"
    }
   ],
   "source": []
  },
  {
   "cell_type": "code",
   "execution_count": 114,
   "metadata": {},
   "outputs": [],
   "source": [
    "size=(224,224)\n",
    "img =  im.open('download.jpg')\n",
    "img = img.resize(size,im.ANTIALIAS) \n",
    "image_to_predict  = ki.img_to_array(img)\n",
    "image_to_predict = np.expand_dims(image_to_predict,axis=0)"
   ]
  },
  {
   "cell_type": "code",
   "execution_count": 117,
   "metadata": {},
   "outputs": [],
   "source": [
    "hist.model.save_weights('InvoiceClassifier.h5')"
   ]
  },
  {
   "cell_type": "code",
   "execution_count": 116,
   "metadata": {},
   "outputs": [],
   "source": []
  },
  {
   "cell_type": "markdown",
   "metadata": {},
   "source": []
  },
  {
   "cell_type": "code",
   "execution_count": null,
   "metadata": {},
   "outputs": [],
   "source": []
  },
  {
   "cell_type": "code",
   "execution_count": null,
   "metadata": {},
   "outputs": [],
   "source": []
  },
  {
   "cell_type": "code",
   "execution_count": null,
   "metadata": {},
   "outputs": [],
   "source": []
  }
 ],
 "metadata": {
  "kernelspec": {
   "display_name": "Python 3",
   "language": "python",
   "name": "python3"
  }
 },
 "nbformat": 4,
 "nbformat_minor": 2
}
